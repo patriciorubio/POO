{
  "nbformat": 4,
  "nbformat_minor": 0,
  "metadata": {
    "colab": {
      "provenance": []
    },
    "kernelspec": {
      "name": "python3",
      "display_name": "Python 3"
    },
    "language_info": {
      "name": "python"
    }
  },
  "cells": [
    {
      "cell_type": "code",
      "execution_count": null,
      "metadata": {
        "colab": {
          "base_uri": "https://localhost:8080/"
        },
        "id": "hK_h2Y-4fHnJ",
        "outputId": "ba6e4669-31a9-43a5-beaf-5e602b9b8b6b"
      },
      "outputs": [
        {
          "output_type": "stream",
          "name": "stdout",
          "text": [
            "Hola mundo\n"
          ]
        }
      ],
      "source": [
        "print (\"Hola mundo\")"
      ]
    },
    {
      "cell_type": "code",
      "source": [
        "nombre = \"Patricio\"\n",
        "print(nombre)"
      ],
      "metadata": {
        "colab": {
          "base_uri": "https://localhost:8080/"
        },
        "id": "gCPkC1hUfOHi",
        "outputId": "bdd8c779-c866-4711-8480-014704d7bf40"
      },
      "execution_count": null,
      "outputs": [
        {
          "output_type": "stream",
          "name": "stdout",
          "text": [
            "Patricio\n"
          ]
        }
      ]
    },
    {
      "cell_type": "code",
      "source": [
        "numero = float(input(\"Dame un número: \"))\n",
        "doble = numero*2\n",
        "print(\"El doble de \",numero,\" es \",doble)"
      ],
      "metadata": {
        "colab": {
          "base_uri": "https://localhost:8080/"
        },
        "id": "_XmaVJP-fTjJ",
        "outputId": "5e986382-0663-4bf2-ff51-695cfb83daaf"
      },
      "execution_count": null,
      "outputs": [
        {
          "output_type": "stream",
          "name": "stdout",
          "text": [
            "Dame un número: 8\n",
            "El doble de  8.0  es  16.0\n"
          ]
        }
      ]
    },
    {
      "cell_type": "code",
      "source": [
        "numero1 = float(input(\"Dame un número: \"))\n",
        "numero2 = float(input(\"Dame otro número: \"))\n",
        "\n",
        "suma = numero1 + numero2\n",
        "\n",
        "print(\"La suma de \",numero1,\" y \",numero2,\" es \",suma)"
      ],
      "metadata": {
        "colab": {
          "base_uri": "https://localhost:8080/"
        },
        "id": "jd1gTqzofhPK",
        "outputId": "169f92b6-fd9c-40c3-f037-6fca02ad622d"
      },
      "execution_count": null,
      "outputs": [
        {
          "output_type": "stream",
          "name": "stdout",
          "text": [
            "Dame un número: 9\n",
            "Dame otro número: 8\n",
            "La suma de  9.0  y  8.0  es  17.0\n"
          ]
        }
      ]
    },
    {
      "cell_type": "code",
      "source": [
        "numeros = [1, 2, 3, 4, 5]\n",
        "print(\"El primer número de la lista es: \",numeros[0])\n",
        "print(\"El último número de la lista es: \",numeros[4])"
      ],
      "metadata": {
        "colab": {
          "base_uri": "https://localhost:8080/"
        },
        "id": "xSK18pQmftL7",
        "outputId": "cabf2f9d-1b7a-4036-c458-8ab37bc81055"
      },
      "execution_count": null,
      "outputs": [
        {
          "output_type": "stream",
          "name": "stdout",
          "text": [
            "El primer número de la lista es:  1\n",
            "El último número de la lista es:  5\n"
          ]
        }
      ]
    },
    {
      "cell_type": "code",
      "source": [
        "numero = float(input(\"Dame un número: \"))\n",
        "if numero%2 == 0:\n",
        "    print(\"El número \",numero,\" es par\")\n",
        "else:\n",
        "    print(\"El número \",numero,\" es impar\")"
      ],
      "metadata": {
        "colab": {
          "base_uri": "https://localhost:8080/"
        },
        "id": "iQ-x4nWKgGFl",
        "outputId": "4e338c4a-9dd0-43e5-982c-da7e6e4643ff"
      },
      "execution_count": null,
      "outputs": [
        {
          "output_type": "stream",
          "name": "stdout",
          "text": [
            "Dame un número: 9\n",
            "El número  9.0  es impar\n"
          ]
        }
      ]
    },
    {
      "cell_type": "code",
      "source": [
        "for numero in range(1,11):\n",
        "  print(numero)"
      ],
      "metadata": {
        "colab": {
          "base_uri": "https://localhost:8080/"
        },
        "id": "EKwbFiADgViu",
        "outputId": "ee3e82be-239c-4e8b-9216-defeec2963bf"
      },
      "execution_count": null,
      "outputs": [
        {
          "output_type": "stream",
          "name": "stdout",
          "text": [
            "1\n",
            "2\n",
            "3\n",
            "4\n",
            "5\n",
            "6\n",
            "7\n",
            "8\n",
            "9\n",
            "10\n"
          ]
        }
      ]
    },
    {
      "cell_type": "code",
      "source": [
        "suma = 0\n",
        "for numero in range(1,101):\n",
        "  suma += numero\n",
        "print(\"La suma de los primeros 100 números naturales es: \",suma)"
      ],
      "metadata": {
        "colab": {
          "base_uri": "https://localhost:8080/"
        },
        "id": "3qOm5cb2gckK",
        "outputId": "fc619d02-4019-4d33-99e0-c455f41952c7"
      },
      "execution_count": null,
      "outputs": [
        {
          "output_type": "stream",
          "name": "stdout",
          "text": [
            "La suma de los primeros 100 números naturales es:  5050\n"
          ]
        }
      ]
    },
    {
      "cell_type": "code",
      "source": [
        "numero = float(input(\"Dame un número: \"))\n",
        "\n",
        "def cuadrado(numero):\n",
        "  return numero**2\n",
        "\n",
        "print(\"El cuadrado de \",numero,\" es \",cuadrado(numero))"
      ],
      "metadata": {
        "colab": {
          "base_uri": "https://localhost:8080/"
        },
        "id": "DXzfX9DVh6mF",
        "outputId": "c0bb1093-2741-45fc-c1f5-1a5de4419a6a"
      },
      "execution_count": null,
      "outputs": [
        {
          "output_type": "stream",
          "name": "stdout",
          "text": [
            "Dame un número: 9\n",
            "El cuadrado de  9.0  es  81.0\n"
          ]
        }
      ]
    },
    {
      "cell_type": "code",
      "source": [
        "def contvocales(texto):\n",
        "  vocales = \"aeiouAEIOU\"\n",
        "  contador = 0\n",
        "  for caracter in texto:\n",
        "    if caracter in vocales:\n",
        "      contador += 1\n",
        "  return contador\n",
        "\n",
        "texto = input(\"Dame un texto: \")\n",
        "print(\"El número de vocales en el texto es: \",contvocales(texto))"
      ],
      "metadata": {
        "colab": {
          "base_uri": "https://localhost:8080/"
        },
        "id": "68fqFmeyiNjR",
        "outputId": "89171316-1578-40ca-e214-0cccef11b125"
      },
      "execution_count": null,
      "outputs": [
        {
          "output_type": "stream",
          "name": "stdout",
          "text": [
            "Dame un texto: la vaca lechera quiere dormir\n",
            "El número de vocales en el texto es:  12\n"
          ]
        }
      ]
    },
    {
      "cell_type": "code",
      "source": [
        "numeros = list(range(1, 11))\n",
        "\n",
        "numpar = [numero for numero in numeros if numero%2 == 0]\n",
        "print(\"Los números pares de la lista son: \",numpar)"
      ],
      "metadata": {
        "colab": {
          "base_uri": "https://localhost:8080/"
        },
        "id": "5Nad_MqNiZmN",
        "outputId": "532f2c9d-e4f1-4263-8c06-e528bfb70d44"
      },
      "execution_count": null,
      "outputs": [
        {
          "output_type": "stream",
          "name": "stdout",
          "text": [
            "Los números pares de la lista son:  [2, 4, 6, 8, 10]\n"
          ]
        }
      ]
    },
    {
      "cell_type": "code",
      "source": [
        "personas = {\"Patricio\": 19, \"Bernardo\": 17, \"Alejandra\": 48, \"Juan Luis\": 55}\n",
        "\n",
        "nombre = (input(\"Dame un nombre: \"))\n",
        "if nombre in personas:\n",
        "  print(\"La edad de \",nombre,\" es \",personas[nombre])\n",
        "else:\n",
        "  print(\"No se encontró a \",nombre,\" en la lista\")\n",
        "\n"
      ],
      "metadata": {
        "colab": {
          "base_uri": "https://localhost:8080/"
        },
        "id": "f44NC4Qfixkb",
        "outputId": "792b76f1-6060-4b4d-8782-b4992320f6ed"
      },
      "execution_count": null,
      "outputs": [
        {
          "output_type": "stream",
          "name": "stdout",
          "text": [
            "Dame un nombre: Patricio\n",
            "La edad de  Patricio  es  19\n"
          ]
        }
      ]
    },
    {
      "cell_type": "code",
      "source": [
        "numeros = [12, 28, 3, 98, 1, 90, 66]\n",
        "\n",
        "numeromasgrande = max(numeros)\n",
        "\n",
        "print(\"El número más grande en la lista es:\", numeromasgrande)"
      ],
      "metadata": {
        "colab": {
          "base_uri": "https://localhost:8080/"
        },
        "id": "7WwpmvK0jgua",
        "outputId": "48f97741-a2d9-40cf-f4a8-8445999540c7"
      },
      "execution_count": null,
      "outputs": [
        {
          "output_type": "stream",
          "name": "stdout",
          "text": [
            "El número más grande en la lista es: 98\n"
          ]
        }
      ]
    },
    {
      "cell_type": "code",
      "source": [
        "lista = [10, 9, 7.3, 6.2, 9.7, 5.4]\n",
        "\n",
        "def promedio(lista):\n",
        "  return sum(lista)/len(lista)\n",
        "\n",
        "print(\"El promedio de la lista es: \",promedio(lista))\n",
        "\n"
      ],
      "metadata": {
        "colab": {
          "base_uri": "https://localhost:8080/"
        },
        "id": "F4Th3DZfj8iR",
        "outputId": "e50427cc-5bbb-4ab2-ecbc-5dac9c97a0ec"
      },
      "execution_count": null,
      "outputs": [
        {
          "output_type": "stream",
          "name": "stdout",
          "text": [
            "El promedio de la lista es:  7.933333333333334\n"
          ]
        }
      ]
    },
    {
      "cell_type": "code",
      "source": [
        "print(\"Dame una palabra: \")\n",
        "palabra = input()\n",
        "if palabra == palabra[::-1]:\n",
        "  print(\"La palabra es un palíndromo\")\n",
        "else:\n",
        "  print(\"La palabra no es un palíndromo\")"
      ],
      "metadata": {
        "colab": {
          "base_uri": "https://localhost:8080/"
        },
        "id": "Ej8H54Xqpc48",
        "outputId": "4ecee188-9025-4418-d21f-71c72f540817"
      },
      "execution_count": null,
      "outputs": [
        {
          "output_type": "stream",
          "name": "stdout",
          "text": [
            "Dame una palabra: \n",
            "civic\n",
            "La palabra es un palíndromo\n"
          ]
        }
      ]
    },
    {
      "cell_type": "code",
      "source": [
        "def mayor_numero(a, b):\n",
        "    return max(a, b)\n",
        "\n",
        "x = input(\"Dame un número: \")\n",
        "x = float(x)\n",
        "z = input(\"Dame otro número: \")\n",
        "z = float(z)\n",
        "\n",
        "print(\"El número mayor es:\", mayor_numero(x, z))\n",
        "\n",
        "\n",
        "\n"
      ],
      "metadata": {
        "id": "7EOP_r1CqKDb",
        "colab": {
          "base_uri": "https://localhost:8080/"
        },
        "outputId": "fedeb0a9-ff32-47c0-cb07-ab1e330d643c"
      },
      "execution_count": null,
      "outputs": [
        {
          "output_type": "stream",
          "name": "stdout",
          "text": [
            "Dame un número: 9\n",
            "Dame otro número: 8\n",
            "El número 9.0 es mayor\n",
            "Dame un número: 8\n",
            "Dame otro número: 2\n",
            "El número 8 es mayor\n"
          ]
        }
      ]
    },
    {
      "cell_type": "code",
      "source": [
        "numero = int(input(\"Ingresa un número: \"))\n",
        "\n",
        "print(\"Tabla de multiplicar del\", numero)\n",
        "for i in range(1, 11):\n",
        "    print(numero, \"x\", i, \"=\", numero * i)"
      ],
      "metadata": {
        "id": "aWOOMZV3r_97",
        "colab": {
          "base_uri": "https://localhost:8080/"
        },
        "outputId": "0998d3df-253f-46c7-9679-1470a7aa6f30"
      },
      "execution_count": 39,
      "outputs": [
        {
          "output_type": "stream",
          "name": "stdout",
          "text": [
            "Ingresa un número: 9\n",
            "Tabla de multiplicar del 9\n",
            "9 x 1 = 9\n",
            "9 x 2 = 18\n",
            "9 x 3 = 27\n",
            "9 x 4 = 36\n",
            "9 x 5 = 45\n",
            "9 x 6 = 54\n",
            "9 x 7 = 63\n",
            "9 x 8 = 72\n",
            "9 x 9 = 81\n",
            "9 x 10 = 90\n"
          ]
        }
      ]
    },
    {
      "cell_type": "code",
      "source": [
        "def primo(numero):\n",
        "    if numero < 2:\n",
        "        return False\n",
        "    for i in range(2, int(numero**0.5) + 1):\n",
        "        if numero % i == 0:\n",
        "            return False\n",
        "    return True\n",
        "\n",
        "def primhasta(n):\n",
        "    primos = []\n",
        "    for num in range(2, n + 1):\n",
        "        if primo(num):\n",
        "            primos.append(num)\n",
        "    return primos\n",
        "\n",
        "n = int(input(\"Dame un número: \"))\n",
        "resultado = primhasta(n)\n",
        "print(\"Los números primos hasta\", n, \"son:\", resultado)"
      ],
      "metadata": {
        "id": "Q3-vOG0ruaok",
        "colab": {
          "base_uri": "https://localhost:8080/"
        },
        "outputId": "77ff2db1-d120-4dfe-d583-83ba30b13c6e"
      },
      "execution_count": 44,
      "outputs": [
        {
          "output_type": "stream",
          "name": "stdout",
          "text": [
            "Dame un número: 90\n",
            "Los números primos hasta 90 son: [2, 3, 5, 7, 11, 13, 17, 19, 23, 29, 31, 37, 41, 43, 47, 53, 59, 61, 67, 71, 73, 79, 83, 89]\n"
          ]
        }
      ]
    },
    {
      "cell_type": "code",
      "source": [
        "def ordenarlista(lista):\n",
        "    n = len(lista)\n",
        "    for i in range(n):\n",
        "        for j in range(0, n-i-1):\n",
        "            if lista[j] > lista[j+1]:\n",
        "\n",
        "                lista[j], lista[j+1] = lista[j+1], lista[j]\n",
        "    return lista\n",
        "\n",
        "numeros = [12, 28, 3, 98, 1, 90, 66]\n",
        "numordenados = ordenarlista(numeros)\n",
        "print(\"Lista ordenada:\", numordenados)"
      ],
      "metadata": {
        "colab": {
          "base_uri": "https://localhost:8080/"
        },
        "id": "_7-Mn4eevGx0",
        "outputId": "f4bca46d-8c5e-4f46-b8f1-2fa8bf7f625b"
      },
      "execution_count": 46,
      "outputs": [
        {
          "output_type": "stream",
          "name": "stdout",
          "text": [
            "Lista ordenada: [1, 3, 12, 28, 66, 90, 98]\n"
          ]
        }
      ]
    },
    {
      "cell_type": "code",
      "source": [
        "import random\n",
        "\n",
        "def adivinarnumero():\n",
        "    numsecreto = random.randint(1, 100)\n",
        "    intento = 0\n",
        "    print(\"¡Bienvenido al juego de adivinar el número!\")\n",
        "    print(\"Estoy pensando en un número entre 1 y 100. Intenta adivinarlo.\")\n",
        "\n",
        "intento = int(input(\"Ingresa tu número: \"))\n",
        "intento += 1\n",
        "\n",
        "if intento < 1  or intento > 100:\n",
        "  print(\"Por favor, ingresa un número entre 1 y 100.\")\n",
        "elif intento < numsecreto:\n",
        "  print(\"Muy bajo. Intenta nuevamente.\")\n",
        "elif intento > numsecreto:\n",
        "  print(\"Muy alto. Intenta nuevamente.\")\n",
        "else:\n",
        "  print(f\"¡Felicidades! Adivinaste el número {numsecreto} en {intento} intentos\")\n",
        "\n"
      ],
      "metadata": {
        "colab": {
          "base_uri": "https://localhost:8080/",
          "height": 233
        },
        "id": "IlN1Ss1vvdGx",
        "outputId": "000ec36c-32be-46fd-d916-ad6ed8114f00"
      },
      "execution_count": 52,
      "outputs": [
        {
          "name": "stdout",
          "output_type": "stream",
          "text": [
            "Ingresa tu número: 90\n"
          ]
        },
        {
          "output_type": "error",
          "ename": "NameError",
          "evalue": "name 'numsecreto' is not defined",
          "traceback": [
            "\u001b[0;31m---------------------------------------------------------------------------\u001b[0m",
            "\u001b[0;31mNameError\u001b[0m                                 Traceback (most recent call last)",
            "\u001b[0;32m<ipython-input-52-6ad93cfbcafd>\u001b[0m in \u001b[0;36m<cell line: 0>\u001b[0;34m()\u001b[0m\n\u001b[1;32m     12\u001b[0m \u001b[0;32mif\u001b[0m \u001b[0mintento\u001b[0m \u001b[0;34m<\u001b[0m \u001b[0;36m1\u001b[0m  \u001b[0;32mor\u001b[0m \u001b[0mintento\u001b[0m \u001b[0;34m>\u001b[0m \u001b[0;36m100\u001b[0m\u001b[0;34m:\u001b[0m\u001b[0;34m\u001b[0m\u001b[0;34m\u001b[0m\u001b[0m\n\u001b[1;32m     13\u001b[0m   \u001b[0mprint\u001b[0m\u001b[0;34m(\u001b[0m\u001b[0;34m\"Por favor, ingresa un número entre 1 y 100.\"\u001b[0m\u001b[0;34m)\u001b[0m\u001b[0;34m\u001b[0m\u001b[0;34m\u001b[0m\u001b[0m\n\u001b[0;32m---> 14\u001b[0;31m \u001b[0;32melif\u001b[0m \u001b[0mintento\u001b[0m \u001b[0;34m<\u001b[0m \u001b[0mnumsecreto\u001b[0m\u001b[0;34m:\u001b[0m\u001b[0;34m\u001b[0m\u001b[0;34m\u001b[0m\u001b[0m\n\u001b[0m\u001b[1;32m     15\u001b[0m   \u001b[0mprint\u001b[0m\u001b[0;34m(\u001b[0m\u001b[0;34m\"Muy bajo. Intenta nuevamente.\"\u001b[0m\u001b[0;34m)\u001b[0m\u001b[0;34m\u001b[0m\u001b[0;34m\u001b[0m\u001b[0m\n\u001b[1;32m     16\u001b[0m \u001b[0;32melif\u001b[0m \u001b[0mintento\u001b[0m \u001b[0;34m>\u001b[0m \u001b[0mnumsecreto\u001b[0m\u001b[0;34m:\u001b[0m\u001b[0;34m\u001b[0m\u001b[0;34m\u001b[0m\u001b[0m\n",
            "\u001b[0;31mNameError\u001b[0m: name 'numsecreto' is not defined"
          ]
        }
      ]
    },
    {
      "cell_type": "code",
      "source": [],
      "metadata": {
        "id": "P846AxAbvqdl"
      },
      "execution_count": null,
      "outputs": []
    }
  ]
}