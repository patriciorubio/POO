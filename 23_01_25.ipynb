{
  "nbformat": 4,
  "nbformat_minor": 0,
  "metadata": {
    "colab": {
      "provenance": []
    },
    "kernelspec": {
      "name": "python3",
      "display_name": "Python 3"
    },
    "language_info": {
      "name": "python"
    }
  },
  "cells": [
    {
      "cell_type": "markdown",
      "source": [
        "# Introducción a Python\n",
        "\n",
        "Python es un lenguaje de programación de alto nivel, interpretado y de propósito general. Es conocido por su sintaxis clara y legible, lo que lo hace relativamente fácil de aprender y usar. Python es un lenguaje versátil que se puede utilizar para una amplia gama de tareas, incluyendo desarrollo web, análisis de datos, aprendizaje automático e inteligencia artificial\n",
        "\n",
        "\n",
        "En la clase de hoy, vamos a ver cómo funciona Google Colab, operaciones básicas sobre Python, y la introducción a lo que vamos a ver en esta clase en todo el semestre.\n",
        "\n",
        "## ¿Qué veremos hoy?\n",
        "\n",
        "1.   Objetos\n",
        "2.   Variables\n",
        "3.   Un ejemplo\n",
        "\n",
        "\n",
        "\n",
        "\n",
        "\n"
      ],
      "metadata": {
        "id": "_TYIF36AqjGx"
      }
    },
    {
      "cell_type": "markdown",
      "source": [
        "**Nota:** En este procesador de texto se puede escribir en html y en latex.\n",
        "\n",
        "Por ejemplo, vamos a escribir la ecuación más hermosa: $$ e^{i\\pi}+1 = 0$$\n",
        "Otro ejemplo:\n",
        "\\begin{pmatrix}\n",
        "a_{11} & a_{12} & \\cdots & a_{1n} \\\\\n",
        "a_{21} & a_{22} & \\cdots & a_{2n} \\\\\n",
        "\\vdots & \\vdots & \\ddots & \\vdots \\\\\n",
        "a_{m1} & a_{m2} & \\cdots & a_{mn}\n",
        "\\end{pmatrix}\n"
      ],
      "metadata": {
        "id": "_kksVTRTuTcp"
      }
    },
    {
      "cell_type": "markdown",
      "source": [
        "### Algunos objetos en Python:\n",
        "\n",
        "\n",
        "\n",
        "1.   int y float (enteros y flotantes)\n",
        "2.   str (\"string\")\n",
        "3.   Conjuntos y Listas\n",
        "\n",
        "------\n",
        "\n",
        "**La función `print` y la función `type``**\n"
      ],
      "metadata": {
        "id": "G_uhnTaT7sCb"
      }
    },
    {
      "cell_type": "code",
      "source": [
        "# Vamos a imprimir Hola mundo\n",
        "\n",
        "print (\"Hola mundo\");"
      ],
      "metadata": {
        "colab": {
          "base_uri": "https://localhost:8080/"
        },
        "id": "yMnWZwre9Z2m",
        "outputId": "69c2d1d2-50d0-47f9-c9fb-57216fda68c8"
      },
      "execution_count": 5,
      "outputs": [
        {
          "output_type": "stream",
          "name": "stdout",
          "text": [
            "Hola mundo\n"
          ]
        }
      ]
    },
    {
      "cell_type": "markdown",
      "source": [
        "#### Operaciones básicas en int o float\n",
        "\n",
        "\n",
        "\n",
        "*   $Suma ( + ), Resta ( - )$\n",
        "*   $Multiplicación ( * ), División ( / ), Potenciación ( ** )$\n",
        "*   $Operación Modular ( \\% )$\n",
        "*   $División al Piso ( // )$\n",
        "\n",
        "\n",
        "\n",
        "\n"
      ],
      "metadata": {
        "id": "smRJu91oAVqO"
      }
    },
    {
      "cell_type": "markdown",
      "source": [
        "**Creación de Variables**\n",
        "\n",
        "nombre = objeto"
      ],
      "metadata": {
        "id": "7uigNzfmFYP6"
      }
    },
    {
      "cell_type": "code",
      "source": [
        "# Vamos a crear dos variables\n",
        "\n",
        "x = 7\n",
        "y = 3\n"
      ],
      "metadata": {
        "id": "ktoyk8bnFSuz"
      },
      "execution_count": 7,
      "outputs": []
    },
    {
      "cell_type": "code",
      "source": [
        "# Operaciones\n",
        "\n",
        "print(f\"La suma de {x} y {y} es: {x+y}\")\n",
        "print(f\"La resta de {x} y {y} es: {x-y}\")\n",
        "print(f\"La multiplicación de {x} y {y} es: {x*y}\")\n",
        "print(f\"La división de {x} y {y} es: {x/y}\")\n",
        "print(f\"La división al piso de {x} y {y} es: {x//y}\")\n",
        "print(f\"El residuo de {x} y {y} es: {x%y}\")\n",
        "print(f\"La potenciación de {x} y {y} es: {x**y}\")"
      ],
      "metadata": {
        "colab": {
          "base_uri": "https://localhost:8080/"
        },
        "id": "nzPDhe_CGa5t",
        "outputId": "bc0e6552-3f56-4eee-a4ed-09b6ed4ef436"
      },
      "execution_count": 12,
      "outputs": [
        {
          "output_type": "stream",
          "name": "stdout",
          "text": [
            "La suma de 7 y 3 es: 10\n",
            "La resta de 7 y 3 es: 4\n",
            "La multiplicación de 7 y 3 es: 21\n",
            "La división de 7 y 3 es: 2.3333333333333335\n",
            "La división al piso de 7 y 3 es: 2\n",
            "El residuo de 7 y 3 es: 1\n",
            "La potenciación de 7 y 3 es: 343\n"
          ]
        }
      ]
    },
    {
      "cell_type": "code",
      "source": [
        "type(x/y), type(\"César\")"
      ],
      "metadata": {
        "colab": {
          "base_uri": "https://localhost:8080/"
        },
        "id": "jirtnH5nHR-R",
        "outputId": "2074bb91-e66d-45c2-b0af-0538a362948c"
      },
      "execution_count": 14,
      "outputs": [
        {
          "output_type": "execute_result",
          "data": {
            "text/plain": [
              "(float, str)"
            ]
          },
          "metadata": {},
          "execution_count": 14
        }
      ]
    }
  ]
}