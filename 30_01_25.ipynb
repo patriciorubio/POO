{
  "nbformat": 4,
  "nbformat_minor": 0,
  "metadata": {
    "colab": {
      "provenance": []
    },
    "kernelspec": {
      "name": "python3",
      "display_name": "Python 3"
    },
    "language_info": {
      "name": "python"
    }
  },
  "cells": [
    {
      "cell_type": "markdown",
      "source": [
        "$$range (a,b)$$\n",
        "$$a\\geq 0$$\n",
        "$$b\\geq 0$$\n",
        "$$a<b$$"
      ],
      "metadata": {
        "id": "BVpsoOLassDt"
      }
    },
    {
      "cell_type": "code",
      "source": [
        "range(10)\n",
        "type(range(10))"
      ],
      "metadata": {
        "id": "FrvBqePouj87"
      },
      "execution_count": null,
      "outputs": []
    },
    {
      "cell_type": "markdown",
      "source": [
        "La función `range` es el generador de indices de Python"
      ],
      "metadata": {
        "id": "_n7N8AcC3VW6"
      }
    },
    {
      "cell_type": "code",
      "source": [
        "for i in range(10):\n",
        "  print (i)"
      ],
      "metadata": {
        "colab": {
          "base_uri": "https://localhost:8080/"
        },
        "id": "soWcamZB3V1B",
        "outputId": "675d0d6e-6bc1-4fcf-b6fa-34298f59fcb5"
      },
      "execution_count": 1,
      "outputs": [
        {
          "output_type": "stream",
          "name": "stdout",
          "text": [
            "0\n",
            "1\n",
            "2\n",
            "3\n",
            "4\n",
            "5\n",
            "6\n",
            "7\n",
            "8\n",
            "9\n"
          ]
        }
      ]
    },
    {
      "cell_type": "markdown",
      "source": [
        "**Listas y Arreglos**"
      ],
      "metadata": {
        "id": "agGSyfpD3i75"
      }
    },
    {
      "cell_type": "markdown",
      "source": [
        "Si $A$ un conjunto, sea $a\\in A$"
      ],
      "metadata": {
        "id": "yHqmdYxF3sBt"
      }
    },
    {
      "cell_type": "code",
      "source": [
        "Indices= [i for i in range(0,21)]\n",
        "print(f\"Etiquetas: {Indices}\")"
      ],
      "metadata": {
        "colab": {
          "base_uri": "https://localhost:8080/"
        },
        "id": "SsiiMsFa3b1l",
        "outputId": "fc575144-677d-4139-d4ac-44851cd87aed"
      },
      "execution_count": 3,
      "outputs": [
        {
          "output_type": "stream",
          "name": "stdout",
          "text": [
            "Etiquetas: [0, 1, 2, 3, 4, 5, 6, 7, 8, 9, 10, 11, 12, 13, 14, 15, 16, 17, 18, 19, 20]\n"
          ]
        }
      ]
    },
    {
      "cell_type": "code",
      "source": [
        "Multiplos_3= [i for i in range (0,21) if i%3==0]\n",
        "print(f\"Multiplos de 3: {Multiplos_3}\")"
      ],
      "metadata": {
        "colab": {
          "base_uri": "https://localhost:8080/"
        },
        "id": "V1Xhd3wb3vGk",
        "outputId": "6ff3d8ef-1e60-4f7a-a7ee-35bb5006bb1f"
      },
      "execution_count": 4,
      "outputs": [
        {
          "output_type": "stream",
          "name": "stdout",
          "text": [
            "Multiplos de 3: [0, 3, 6, 9, 12, 15, 18]\n"
          ]
        }
      ]
    },
    {
      "cell_type": "markdown",
      "source": [
        "La `f` es cuando usamos strings con variables"
      ],
      "metadata": {
        "id": "LAgzGPkR30A5"
      }
    },
    {
      "cell_type": "markdown",
      "source": [
        "**Ingresos**"
      ],
      "metadata": {
        "id": "qcJ9-Bbr31pf"
      }
    },
    {
      "cell_type": "code",
      "source": [
        "Ceci = []\n",
        "Ceci.insert(0,18)\n",
        "print(Ceci)"
      ],
      "metadata": {
        "colab": {
          "base_uri": "https://localhost:8080/"
        },
        "id": "bhRdVW413xCQ",
        "outputId": "5a994f05-559a-4128-f6ec-56de52afb160"
      },
      "execution_count": 12,
      "outputs": [
        {
          "output_type": "stream",
          "name": "stdout",
          "text": [
            "[18]\n"
          ]
        }
      ]
    },
    {
      "cell_type": "code",
      "source": [
        "Ceci.insert(1,\"Violin\")\n",
        "print(Ceci)"
      ],
      "metadata": {
        "colab": {
          "base_uri": "https://localhost:8080/"
        },
        "id": "ZzX_Apsw35Xg",
        "outputId": "12873da4-f6f0-437f-d785-b2bd7c32e67f"
      },
      "execution_count": 18,
      "outputs": [
        {
          "output_type": "stream",
          "name": "stdout",
          "text": [
            "[18, 'Violin', 1.62, 1.62, 1.62, 1.62]\n"
          ]
        }
      ]
    },
    {
      "cell_type": "code",
      "source": [
        "Ceci.insert(2, 1.62)\n",
        "print(Ceci)"
      ],
      "metadata": {
        "colab": {
          "base_uri": "https://localhost:8080/"
        },
        "id": "qUQTtMfX4KY8",
        "outputId": "492efd24-d951-4762-f22d-5521f9aa243b"
      },
      "execution_count": 19,
      "outputs": [
        {
          "output_type": "stream",
          "name": "stdout",
          "text": [
            "[18, 'Violin', 1.62, 1.62, 1.62, 1.62, 1.62]\n"
          ]
        }
      ]
    },
    {
      "cell_type": "code",
      "source": [
        "Ceci.insert(4, \"Perro\")\n",
        "print(Ceci)"
      ],
      "metadata": {
        "colab": {
          "base_uri": "https://localhost:8080/"
        },
        "id": "RY2Q6XuE4aJM",
        "outputId": "bd519355-711c-473e-9034-3e3718df6db9"
      },
      "execution_count": 20,
      "outputs": [
        {
          "output_type": "stream",
          "name": "stdout",
          "text": [
            "[18, 'Violin', 1.62, 1.62, 'Perro', 1.62, 1.62, 1.62]\n"
          ]
        }
      ]
    },
    {
      "cell_type": "code",
      "source": [
        "Indices [0::3]"
      ],
      "metadata": {
        "colab": {
          "base_uri": "https://localhost:8080/"
        },
        "id": "gsJ2F6944uuQ",
        "outputId": "46bc2b56-a249-4119-ed6c-4c7f478e8477"
      },
      "execution_count": 21,
      "outputs": [
        {
          "output_type": "execute_result",
          "data": {
            "text/plain": [
              "[0, 3, 6, 9, 12, 15, 18]"
            ]
          },
          "metadata": {},
          "execution_count": 21
        }
      ]
    },
    {
      "cell_type": "code",
      "source": [],
      "metadata": {
        "id": "ZjfUd1tb4yBh"
      },
      "execution_count": null,
      "outputs": []
    }
  ]
}