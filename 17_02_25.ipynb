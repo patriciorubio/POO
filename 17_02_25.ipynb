{
  "nbformat": 4,
  "nbformat_minor": 0,
  "metadata": {
    "colab": {
      "provenance": []
    },
    "kernelspec": {
      "name": "python3",
      "display_name": "Python 3"
    },
    "language_info": {
      "name": "python"
    }
  },
  "cells": [
    {
      "cell_type": "markdown",
      "source": [
        "# Algunas funcuiones en Python"
      ],
      "metadata": {
        "id": "qYTvAiu7mN-I"
      }
    },
    {
      "cell_type": "markdown",
      "source": [
        "1. input\n",
        "2. lambda\n",
        "3. map"
      ],
      "metadata": {
        "id": "8UNBJQJRmTfU"
      }
    },
    {
      "cell_type": "markdown",
      "source": [
        "## Ejemplos de la función input"
      ],
      "metadata": {
        "id": "qM3btz3_mgdk"
      }
    },
    {
      "cell_type": "code",
      "execution_count": 3,
      "metadata": {
        "colab": {
          "base_uri": "https://localhost:8080/"
        },
        "id": "LEk-4fYtmM4Q",
        "outputId": "a53bc0d2-c3e0-42c4-d19a-ff991a775d31"
      },
      "outputs": [
        {
          "name": "stdout",
          "output_type": "stream",
          "text": [
            "Ingrese su nombre: Randall\n"
          ]
        }
      ],
      "source": [
        "ceci = input(\"Ingrese su nombre: \")"
      ]
    },
    {
      "cell_type": "code",
      "source": [
        "edad = input(\"¿Cuántos años cumples?: \")"
      ],
      "metadata": {
        "colab": {
          "base_uri": "https://localhost:8080/"
        },
        "id": "GkBURmiXmoGX",
        "outputId": "3a0c7be4-8c5f-45dc-fa03-cefff44696d9"
      },
      "execution_count": 7,
      "outputs": [
        {
          "name": "stdout",
          "output_type": "stream",
          "text": [
            "¿Cuántos años cumples?: 19\n"
          ]
        }
      ]
    },
    {
      "cell_type": "code",
      "source": [
        "print(f\"Hoy es cumple de {ceci} y cumple {edad}\")"
      ],
      "metadata": {
        "colab": {
          "base_uri": "https://localhost:8080/"
        },
        "id": "MpEfHlnInSz4",
        "outputId": "33a9fe41-eb03-4801-ff9a-b50356c952b0"
      },
      "execution_count": 8,
      "outputs": [
        {
          "output_type": "stream",
          "name": "stdout",
          "text": [
            "Hoy es cumple de Randall y cumple 19\n"
          ]
        }
      ]
    },
    {
      "cell_type": "markdown",
      "source": [
        "## La función lambda\n",
        "\n",
        "### Es una función anónima (no tiene nombre) y sirve para crear funciones ad hoc (dentro de un sólo código)."
      ],
      "metadata": {
        "id": "hrzpdYwHpAUN"
      }
    },
    {
      "cell_type": "code",
      "source": [
        "def cuadrado(x):\n",
        "  z = x**2\n",
        "  return z"
      ],
      "metadata": {
        "id": "eN8nLLWco_e7"
      },
      "execution_count": 9,
      "outputs": []
    },
    {
      "cell_type": "code",
      "source": [
        "cuadrado(25)"
      ],
      "metadata": {
        "colab": {
          "base_uri": "https://localhost:8080/"
        },
        "id": "XblLVQTipWni",
        "outputId": "d1deff0c-71a6-4976-a54e-f69d375974ac"
      },
      "execution_count": 10,
      "outputs": [
        {
          "output_type": "execute_result",
          "data": {
            "text/plain": [
              "625"
            ]
          },
          "metadata": {},
          "execution_count": 10
        }
      ]
    },
    {
      "cell_type": "code",
      "source": [
        "cuad = lambda x:x**2\n",
        "cuad(2)"
      ],
      "metadata": {
        "colab": {
          "base_uri": "https://localhost:8080/"
        },
        "id": "CWJg0VHDpXwX",
        "outputId": "2faa81d4-bc8d-4f71-8b47-4b804aa5ff3e"
      },
      "execution_count": 11,
      "outputs": [
        {
          "output_type": "execute_result",
          "data": {
            "text/plain": [
              "4"
            ]
          },
          "metadata": {},
          "execution_count": 11
        }
      ]
    },
    {
      "cell_type": "code",
      "source": [
        "operacion = lambda x, y: x**2 + x*y+2\n",
        "operacion(2,3)"
      ],
      "metadata": {
        "colab": {
          "base_uri": "https://localhost:8080/"
        },
        "id": "V966PnXCpz4e",
        "outputId": "47707f85-3acb-484d-92c0-c2c57fa63e04"
      },
      "execution_count": 12,
      "outputs": [
        {
          "output_type": "execute_result",
          "data": {
            "text/plain": [
              "12"
            ]
          },
          "metadata": {},
          "execution_count": 12
        }
      ]
    },
    {
      "cell_type": "code",
      "source": [
        "import math\n",
        "from math import pi, e"
      ],
      "metadata": {
        "id": "7ZtBeNusqxkN"
      },
      "execution_count": 13,
      "outputs": []
    },
    {
      "cell_type": "code",
      "source": [
        "pi, e"
      ],
      "metadata": {
        "colab": {
          "base_uri": "https://localhost:8080/"
        },
        "id": "Gg-WWlnrrV33",
        "outputId": "2e60ef21-2f52-41bc-eca2-071e3370a067"
      },
      "execution_count": 14,
      "outputs": [
        {
          "output_type": "execute_result",
          "data": {
            "text/plain": [
              "(3.141592653589793, 2.718281828459045)"
            ]
          },
          "metadata": {},
          "execution_count": 14
        }
      ]
    },
    {
      "cell_type": "code",
      "source": [
        "area_circulo = lambda radio: pi*radio**2\n",
        "area_circulo(1)"
      ],
      "metadata": {
        "colab": {
          "base_uri": "https://localhost:8080/"
        },
        "id": "x5yc-4tqrXAo",
        "outputId": "473b49ff-3bb5-4448-e8ee-e307734b97c8"
      },
      "execution_count": 16,
      "outputs": [
        {
          "output_type": "execute_result",
          "data": {
            "text/plain": [
              "3.141592653589793"
            ]
          },
          "metadata": {},
          "execution_count": 16
        }
      ]
    },
    {
      "cell_type": "markdown",
      "source": [
        "### La función map"
      ],
      "metadata": {
        "id": "DjThip5usXpM"
      }
    },
    {
      "cell_type": "code",
      "source": [
        "residuo = list(map(lambda x: x%2, [i for i in range (1, 101)]))\n",
        "residuo"
      ],
      "metadata": {
        "colab": {
          "base_uri": "https://localhost:8080/"
        },
        "id": "hUzdA0tEsT-s",
        "outputId": "9ebd5589-b141-45eb-a834-a0808859fbe0"
      },
      "execution_count": 18,
      "outputs": [
        {
          "output_type": "execute_result",
          "data": {
            "text/plain": [
              "[1,\n",
              " 0,\n",
              " 1,\n",
              " 0,\n",
              " 1,\n",
              " 0,\n",
              " 1,\n",
              " 0,\n",
              " 1,\n",
              " 0,\n",
              " 1,\n",
              " 0,\n",
              " 1,\n",
              " 0,\n",
              " 1,\n",
              " 0,\n",
              " 1,\n",
              " 0,\n",
              " 1,\n",
              " 0,\n",
              " 1,\n",
              " 0,\n",
              " 1,\n",
              " 0,\n",
              " 1,\n",
              " 0,\n",
              " 1,\n",
              " 0,\n",
              " 1,\n",
              " 0,\n",
              " 1,\n",
              " 0,\n",
              " 1,\n",
              " 0,\n",
              " 1,\n",
              " 0,\n",
              " 1,\n",
              " 0,\n",
              " 1,\n",
              " 0,\n",
              " 1,\n",
              " 0,\n",
              " 1,\n",
              " 0,\n",
              " 1,\n",
              " 0,\n",
              " 1,\n",
              " 0,\n",
              " 1,\n",
              " 0,\n",
              " 1,\n",
              " 0,\n",
              " 1,\n",
              " 0,\n",
              " 1,\n",
              " 0,\n",
              " 1,\n",
              " 0,\n",
              " 1,\n",
              " 0,\n",
              " 1,\n",
              " 0,\n",
              " 1,\n",
              " 0,\n",
              " 1,\n",
              " 0,\n",
              " 1,\n",
              " 0,\n",
              " 1,\n",
              " 0,\n",
              " 1,\n",
              " 0,\n",
              " 1,\n",
              " 0,\n",
              " 1,\n",
              " 0,\n",
              " 1,\n",
              " 0,\n",
              " 1,\n",
              " 0,\n",
              " 1,\n",
              " 0,\n",
              " 1,\n",
              " 0,\n",
              " 1,\n",
              " 0,\n",
              " 1,\n",
              " 0,\n",
              " 1,\n",
              " 0,\n",
              " 1,\n",
              " 0,\n",
              " 1,\n",
              " 0,\n",
              " 1,\n",
              " 0,\n",
              " 1,\n",
              " 0,\n",
              " 1,\n",
              " 0]"
            ]
          },
          "metadata": {},
          "execution_count": 18
        }
      ]
    },
    {
      "cell_type": "code",
      "source": [
        "def residuo(x):\n",
        "  for x in range (1, 101):\n",
        "    return x%2"
      ],
      "metadata": {
        "id": "bPhPJszGuY2X"
      },
      "execution_count": 24,
      "outputs": []
    },
    {
      "cell_type": "code",
      "source": [
        "residuo(3)"
      ],
      "metadata": {
        "colab": {
          "base_uri": "https://localhost:8080/"
        },
        "id": "9_Xvep4yvubY",
        "outputId": "cdc61593-3005-465b-a61b-dce9eac07910"
      },
      "execution_count": 25,
      "outputs": [
        {
          "output_type": "execute_result",
          "data": {
            "text/plain": [
              "1"
            ]
          },
          "metadata": {},
          "execution_count": 25
        }
      ]
    },
    {
      "cell_type": "code",
      "source": [
        "exponenciales = set(map(lambda x: e**x, [i for i in range (1, 10)]))\n",
        "exponenciales"
      ],
      "metadata": {
        "colab": {
          "base_uri": "https://localhost:8080/"
        },
        "id": "zldq-9fbwfJk",
        "outputId": "2902c768-3702-4582-d1dc-c8c6a8767d9a"
      },
      "execution_count": 26,
      "outputs": [
        {
          "output_type": "execute_result",
          "data": {
            "text/plain": [
              "{2.718281828459045,\n",
              " 7.3890560989306495,\n",
              " 20.085536923187664,\n",
              " 54.59815003314423,\n",
              " 148.41315910257657,\n",
              " 403.428793492735,\n",
              " 1096.6331584284583,\n",
              " 2980.957987041727,\n",
              " 8103.08392757538}"
            ]
          },
          "metadata": {},
          "execution_count": 26
        }
      ]
    },
    {
      "cell_type": "code",
      "source": [],
      "metadata": {
        "id": "oidHmNtFwm-t"
      },
      "execution_count": null,
      "outputs": []
    }
  ]
}