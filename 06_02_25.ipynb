{
  "nbformat": 4,
  "nbformat_minor": 0,
  "metadata": {
    "colab": {
      "provenance": []
    },
    "kernelspec": {
      "name": "python3",
      "display_name": "Python 3"
    },
    "language_info": {
      "name": "python"
    }
  },
  "cells": [
    {
      "cell_type": "markdown",
      "source": [
        "# Arreglos y Clases\n",
        "## Matrices"
      ],
      "metadata": {
        "id": "qF2F2jg0xyxX"
      }
    },
    {
      "cell_type": "code",
      "source": [
        "# Estamos creando una lista de listas\n",
        "\n",
        "A = [[1,2,3],[4,5,6],[7,8,9]]\n",
        "print(A)\n",
        "type(A)\n"
      ],
      "metadata": {
        "colab": {
          "base_uri": "https://localhost:8080/"
        },
        "id": "uZsw-I4lxU7L",
        "outputId": "08057bd3-ee8b-49ef-8cd9-b0745bef3e23"
      },
      "execution_count": 3,
      "outputs": [
        {
          "output_type": "stream",
          "name": "stdout",
          "text": [
            "[[1, 2, 3], [4, 5, 6], [7, 8, 9]]\n"
          ]
        },
        {
          "output_type": "execute_result",
          "data": {
            "text/plain": [
              "list"
            ]
          },
          "metadata": {},
          "execution_count": 3
        }
      ]
    },
    {
      "cell_type": "code",
      "source": [
        "# Vamos a crear otra lista de listas\n",
        "\n",
        "B = [[21, 34, 40], [71, 17, 77], [73, 81, 28]]\n",
        "\n",
        "A + B"
      ],
      "metadata": {
        "colab": {
          "base_uri": "https://localhost:8080/"
        },
        "id": "bA3G3OPbyMtQ",
        "outputId": "b595f404-0fa0-4b91-e3d6-9e5a9faad77b"
      },
      "execution_count": 6,
      "outputs": [
        {
          "output_type": "execute_result",
          "data": {
            "text/plain": [
              "[[1, 2, 3], [4, 5, 6], [7, 8, 9], [21, 34, 40], [71, 17, 77], [73, 81, 28]]"
            ]
          },
          "metadata": {},
          "execution_count": 6
        }
      ]
    },
    {
      "cell_type": "markdown",
      "source": [
        "[[0. 0. 0. 0.]\n",
        "[0. 0. 0. 0.]\n",
        "[0. 0. 0. 0.]]"
      ],
      "metadata": {
        "id": "oU3V2_Y3xKoG"
      }
    },
    {
      "cell_type": "code",
      "source": [
        "A[0][0]\n",
        "\n",
        "# La primer posición para buscar es cero, no uno"
      ],
      "metadata": {
        "colab": {
          "base_uri": "https://localhost:8080/"
        },
        "id": "DpGumSFG0dlW",
        "outputId": "96f92a33-295a-4110-9f57-341ba0ad74c3"
      },
      "execution_count": 10,
      "outputs": [
        {
          "output_type": "execute_result",
          "data": {
            "text/plain": [
              "1"
            ]
          },
          "metadata": {},
          "execution_count": 10
        }
      ]
    },
    {
      "cell_type": "markdown",
      "source": [
        "## Vectores y Listas"
      ],
      "metadata": {
        "id": "oDQIyVRl0_CF"
      }
    },
    {
      "cell_type": "code",
      "source": [
        "L = A[0]\n",
        "M = B[0]\n",
        "L + M\n",
        "\n",
        "a = L[0]\n",
        "b = M[0]\n",
        "a+b"
      ],
      "metadata": {
        "colab": {
          "base_uri": "https://localhost:8080/"
        },
        "id": "wEJPz3s70gvr",
        "outputId": "b70d8251-eb9e-469f-c449-023dcdacdece"
      },
      "execution_count": 14,
      "outputs": [
        {
          "output_type": "execute_result",
          "data": {
            "text/plain": [
              "22"
            ]
          },
          "metadata": {},
          "execution_count": 14
        }
      ]
    },
    {
      "cell_type": "code",
      "source": [
        "a==1"
      ],
      "metadata": {
        "colab": {
          "base_uri": "https://localhost:8080/"
        },
        "id": "WMDJlxY91jE5",
        "outputId": "f38d40dc-7d5d-4818-f1fb-a3d4b0b8490c"
      },
      "execution_count": 15,
      "outputs": [
        {
          "output_type": "execute_result",
          "data": {
            "text/plain": [
              "True"
            ]
          },
          "metadata": {},
          "execution_count": 15
        }
      ]
    },
    {
      "cell_type": "markdown",
      "source": [
        "## Suma de \"vectores\""
      ],
      "metadata": {
        "id": "59nWjbqL5AVn"
      }
    },
    {
      "cell_type": "code",
      "source": [
        "len(L)==len(M)"
      ],
      "metadata": {
        "colab": {
          "base_uri": "https://localhost:8080/"
        },
        "id": "rkQsV9Qg4-tK",
        "outputId": "660a8277-aef4-450b-847d-25a7eda85b46"
      },
      "execution_count": 16,
      "outputs": [
        {
          "output_type": "execute_result",
          "data": {
            "text/plain": [
              "True"
            ]
          },
          "metadata": {},
          "execution_count": 16
        }
      ]
    },
    {
      "cell_type": "code",
      "source": [
        "suma = [L[0]+M[0], L[1]+M[1], L[2]+M[2]]\n",
        "print(suma)"
      ],
      "metadata": {
        "colab": {
          "base_uri": "https://localhost:8080/"
        },
        "id": "5yD5vyRS5NzL",
        "outputId": "fe37ca19-f59f-484c-9eeb-15ea9a2479b3"
      },
      "execution_count": 18,
      "outputs": [
        {
          "output_type": "stream",
          "name": "stdout",
          "text": [
            "[22, 36, 43]\n"
          ]
        }
      ]
    },
    {
      "cell_type": "code",
      "source": [
        "suma = [L[i]+M[i] for i in range(3)]\n",
        "print(suma)"
      ],
      "metadata": {
        "colab": {
          "base_uri": "https://localhost:8080/"
        },
        "id": "6iGM1HhS5WX5",
        "outputId": "32fd3518-17d8-466d-d271-22f3c0050605"
      },
      "execution_count": 20,
      "outputs": [
        {
          "output_type": "stream",
          "name": "stdout",
          "text": [
            "[22, 36, 43]\n"
          ]
        }
      ]
    },
    {
      "cell_type": "markdown",
      "source": [
        "## Creación de Funciones Globales\n",
        "\n",
        "  La función para crear funciones es `def`que se cierra con un debug (`print` o `return`)"
      ],
      "metadata": {
        "id": "6fJrTzUMEgoZ"
      }
    },
    {
      "cell_type": "code",
      "source": [
        "def Hola():\n",
        "  print(\"Hola yo soy Mateo\")"
      ],
      "metadata": {
        "id": "qVbZUfbk5iGC"
      },
      "execution_count": 21,
      "outputs": []
    },
    {
      "cell_type": "code",
      "source": [
        "Hola()"
      ],
      "metadata": {
        "colab": {
          "base_uri": "https://localhost:8080/"
        },
        "id": "TKXNRrZhE7Ds",
        "outputId": "545c8f40-de7b-4dc0-b6a2-756f36d346fd"
      },
      "execution_count": 22,
      "outputs": [
        {
          "output_type": "stream",
          "name": "stdout",
          "text": [
            "Hola yo soy Mateo\n"
          ]
        }
      ]
    },
    {
      "cell_type": "code",
      "source": [
        "def saludar(s,n):\n",
        "  print(f\"Hola, me llamo {s} y tengo {n} años\")\n"
      ],
      "metadata": {
        "id": "drm1UNYOFXXy"
      },
      "execution_count": 2,
      "outputs": []
    },
    {
      "cell_type": "code",
      "source": [
        "saludar(\"Mateo\",18)"
      ],
      "metadata": {
        "colab": {
          "base_uri": "https://localhost:8080/"
        },
        "id": "XXCCMqJbHCb0",
        "outputId": "9cc9e1bb-ae4d-4296-e6f6-6d05dc8cb823"
      },
      "execution_count": 3,
      "outputs": [
        {
          "output_type": "stream",
          "name": "stdout",
          "text": [
            "Hola, me llamo Mateo y tengo 18 años\n"
          ]
        }
      ]
    },
    {
      "cell_type": "code",
      "source": [
        "def par(x):\n",
        "  for x in range(10):\n",
        "    if x%2==0:\n",
        "      print(f\"{x} es un número par\")\n",
        "    else:\n",
        "      print(f\"{x} es un número impar\")"
      ],
      "metadata": {
        "id": "1JQGI4yyHIgm"
      },
      "execution_count": 9,
      "outputs": []
    },
    {
      "cell_type": "code",
      "source": [
        "par(5)"
      ],
      "metadata": {
        "colab": {
          "base_uri": "https://localhost:8080/"
        },
        "id": "NBJkvhVFJcah",
        "outputId": "7e09d542-3378-4f42-965e-29db2e9b458b"
      },
      "execution_count": 10,
      "outputs": [
        {
          "output_type": "stream",
          "name": "stdout",
          "text": [
            "0 es un número par\n",
            "1 es un número impar\n",
            "2 es un número par\n",
            "3 es un número impar\n",
            "4 es un número par\n",
            "5 es un número impar\n",
            "6 es un número par\n",
            "7 es un número impar\n",
            "8 es un número par\n",
            "9 es un número impar\n"
          ]
        }
      ]
    },
    {
      "cell_type": "code",
      "source": [
        "def suma_vectorial(L,M):\n",
        "  x = [L[i]+M[i] for i in range(0,len(L))]\n",
        "  return x"
      ],
      "metadata": {
        "id": "21ScCrChJeYF"
      },
      "execution_count": 11,
      "outputs": []
    },
    {
      "cell_type": "code",
      "source": [
        "L = [1,2,3]\n",
        "M = [21,34,40]\n",
        "suma_vectorial(L,M)"
      ],
      "metadata": {
        "colab": {
          "base_uri": "https://localhost:8080/"
        },
        "id": "lumGzgt0MP9K",
        "outputId": "1fd6b6cc-1d5d-46fc-cc01-b7b5a20537f3"
      },
      "execution_count": 12,
      "outputs": [
        {
          "output_type": "execute_result",
          "data": {
            "text/plain": [
              "[22, 36, 43]"
            ]
          },
          "metadata": {},
          "execution_count": 12
        }
      ]
    },
    {
      "cell_type": "markdown",
      "source": [
        "## Módulos o librerías"
      ],
      "metadata": {
        "id": "QIYZ0Ue0MvVp"
      }
    },
    {
      "cell_type": "code",
      "source": [
        "import math\n",
        "from math import sqrt, pi"
      ],
      "metadata": {
        "id": "rTrETHsEMfaF"
      },
      "execution_count": 13,
      "outputs": []
    },
    {
      "cell_type": "code",
      "source": [
        "sqrt(7)"
      ],
      "metadata": {
        "colab": {
          "base_uri": "https://localhost:8080/"
        },
        "id": "_vTk-XRpOVfn",
        "outputId": "834dad31-2f93-4633-abbc-2c0e6f785f98"
      },
      "execution_count": 14,
      "outputs": [
        {
          "output_type": "execute_result",
          "data": {
            "text/plain": [
              "2.6457513110645907"
            ]
          },
          "metadata": {},
          "execution_count": 14
        }
      ]
    },
    {
      "cell_type": "code",
      "source": [
        "pi"
      ],
      "metadata": {
        "colab": {
          "base_uri": "https://localhost:8080/"
        },
        "id": "1HVb2txeOW8w",
        "outputId": "0f42def0-4259-47f9-a400-62f22103e52d"
      },
      "execution_count": 15,
      "outputs": [
        {
          "output_type": "execute_result",
          "data": {
            "text/plain": [
              "3.141592653589793"
            ]
          },
          "metadata": {},
          "execution_count": 15
        }
      ]
    },
    {
      "cell_type": "markdown",
      "source": [
        "# Módulo NumPy"
      ],
      "metadata": {
        "id": "x6Pj4vwROyfv"
      }
    },
    {
      "cell_type": "code",
      "source": [
        "import numpy as np\n",
        "L_vector = np.array(L)\n",
        "M_vector = np.array(M)\n",
        "\n",
        "L_vector + M_vector"
      ],
      "metadata": {
        "colab": {
          "base_uri": "https://localhost:8080/"
        },
        "id": "QBrACvRaOX6t",
        "outputId": "bfd32c44-eba3-4b69-962a-84e7cb4c37e3"
      },
      "execution_count": 19,
      "outputs": [
        {
          "output_type": "execute_result",
          "data": {
            "text/plain": [
              "array([22, 36, 43])"
            ]
          },
          "metadata": {},
          "execution_count": 19
        }
      ]
    },
    {
      "cell_type": "code",
      "source": [
        "C = [9,2,2,2,3,3,2,17,2]\n",
        "A = [8,1,1,1,2,2,1,16,1]\n",
        "\n",
        "C_matriz = np.array(C).reshape(3,3)\n",
        "A_matriz = np.array(A).reshape(3,3)\n",
        "print(C_matriz)\n",
        "print(A_matriz)\n"
      ],
      "metadata": {
        "colab": {
          "base_uri": "https://localhost:8080/"
        },
        "id": "Cy0ED9_qQEls",
        "outputId": "84cb72bc-2875-406d-85a0-1800c18231fa"
      },
      "execution_count": 21,
      "outputs": [
        {
          "output_type": "stream",
          "name": "stdout",
          "text": [
            "[[ 9  2  2]\n",
            " [ 2  3  3]\n",
            " [ 2 17  2]]\n",
            "[[ 8  1  1]\n",
            " [ 1  2  2]\n",
            " [ 1 16  1]]\n"
          ]
        }
      ]
    },
    {
      "cell_type": "code",
      "source": [
        "C_matriz @ A_matriz"
      ],
      "metadata": {
        "colab": {
          "base_uri": "https://localhost:8080/"
        },
        "id": "HLputyIPRqdN",
        "outputId": "060b2b65-f30a-49e1-cf34-f97caed20038"
      },
      "execution_count": 22,
      "outputs": [
        {
          "output_type": "execute_result",
          "data": {
            "text/plain": [
              "array([[76, 45, 15],\n",
              "       [22, 56, 11],\n",
              "       [35, 68, 38]])"
            ]
          },
          "metadata": {},
          "execution_count": 22
        }
      ]
    },
    {
      "cell_type": "code",
      "source": [],
      "metadata": {
        "id": "lDk61t96R6oJ"
      },
      "execution_count": null,
      "outputs": []
    }
  ]
}