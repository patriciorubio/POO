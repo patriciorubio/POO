{
  "nbformat": 4,
  "nbformat_minor": 0,
  "metadata": {
    "colab": {
      "provenance": []
    },
    "kernelspec": {
      "name": "python3",
      "display_name": "Python 3"
    },
    "language_info": {
      "name": "python"
    }
  },
  "cells": [
    {
      "cell_type": "markdown",
      "source": [
        "# Clases y Herencias"
      ],
      "metadata": {
        "id": "_JCYJ2bNLPxp"
      }
    },
    {
      "cell_type": "code",
      "source": [
        "!pip3 install ColabTurtle\n",
        "from ColabTurtle.Turtle import *"
      ],
      "metadata": {
        "colab": {
          "base_uri": "https://localhost:8080/"
        },
        "id": "i1LB9pFQPMp_",
        "outputId": "58332c9a-59fb-4571-916e-fa1541dc6f9d"
      },
      "execution_count": 1,
      "outputs": [
        {
          "output_type": "stream",
          "name": "stdout",
          "text": [
            "Requirement already satisfied: ColabTurtle in /usr/local/lib/python3.11/dist-packages (2.1.0)\n"
          ]
        }
      ]
    },
    {
      "cell_type": "code",
      "source": [
        "# Vamos a crear una clase que se llamará Alvaro\n",
        "\n",
        "class Alvaro:\n",
        "  def __init__(self, edad, bff, Ceci):\n",
        "    self.edad = edad\n",
        "    self.bff = bff\n",
        "    self.Ceci = Ceci\n",
        "\n",
        "  def saludar(self):\n",
        "    print(f\"A los {self.edad} conocí a mi amigo {self.bff}\")\n",
        "\n",
        "  def chisme(self):\n",
        "    print(f\"Estoy en el chisme con {self.bff} y con {self.Ceci}\")\n",
        ""
      ],
      "metadata": {
        "id": "XOqz8pxgLVMU"
      },
      "execution_count": 6,
      "outputs": []
    },
    {
      "cell_type": "code",
      "source": [
        "avo = Alvaro(18, \"Jaume\", \"Ceci\")"
      ],
      "metadata": {
        "id": "eCBnymjWRep2"
      },
      "execution_count": 7,
      "outputs": []
    },
    {
      "cell_type": "code",
      "source": [
        "# ¿Cuáles son los argumentos de la clase?\n",
        "\n",
        "avo.edad, avo.bff"
      ],
      "metadata": {
        "id": "OnHWPRYSWHDk"
      },
      "execution_count": null,
      "outputs": []
    },
    {
      "cell_type": "code",
      "source": [
        "avo.saludar()"
      ],
      "metadata": {
        "colab": {
          "base_uri": "https://localhost:8080/"
        },
        "id": "IbgRSlydTw1e",
        "outputId": "23710a5d-7a0f-4e14-f76c-660617da68d4"
      },
      "execution_count": 8,
      "outputs": [
        {
          "output_type": "stream",
          "name": "stdout",
          "text": [
            "A los 18 conocí a mi amigo Jaume\n"
          ]
        }
      ]
    },
    {
      "cell_type": "code",
      "source": [
        "# ¿Qué está haciendo Alvaro?\n",
        "\n",
        "avo.chisme()"
      ],
      "metadata": {
        "colab": {
          "base_uri": "https://localhost:8080/"
        },
        "id": "CRU2KCotU5vK",
        "outputId": "9434783f-4b69-4b34-acae-f06b31393c82"
      },
      "execution_count": 9,
      "outputs": [
        {
          "output_type": "stream",
          "name": "stdout",
          "text": [
            "Estoy en el chisme con Jaume y con Ceci\n"
          ]
        }
      ]
    },
    {
      "cell_type": "code",
      "source": [],
      "metadata": {
        "id": "0xT3dPjDV5Mz"
      },
      "execution_count": null,
      "outputs": []
    }
  ]
}