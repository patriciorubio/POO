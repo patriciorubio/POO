{
  "nbformat": 4,
  "nbformat_minor": 0,
  "metadata": {
    "colab": {
      "provenance": []
    },
    "kernelspec": {
      "name": "python3",
      "display_name": "Python 3"
    },
    "language_info": {
      "name": "python"
    }
  },
  "cells": [
    {
      "cell_type": "markdown",
      "source": [
        "# Conjuntos y Listas\n",
        "\n",
        "- Conjuntos finitos:\n",
        "$$\\{0_1, 0_2, \\dots, 0_n\\} $$\n",
        "\n",
        "- Listas finitas:\n",
        "$$[l_1, l_2, \\dots, l_n] $$"
      ],
      "metadata": {
        "id": "T8fk_wFxdmxi"
      }
    },
    {
      "cell_type": "markdown",
      "source": [
        "En Python, existe la función `range(a, b)`donde $a,b\\geq 0$"
      ],
      "metadata": {
        "id": "6kso915Fenuk"
      }
    },
    {
      "cell_type": "code",
      "execution_count": 1,
      "metadata": {
        "colab": {
          "base_uri": "https://localhost:8080/"
        },
        "id": "hIFl5SWVdlsy",
        "outputId": "bc8ecf1f-10b5-48d6-a676-7f04afb15054"
      },
      "outputs": [
        {
          "output_type": "execute_result",
          "data": {
            "text/plain": [
              "range(0, 10)"
            ]
          },
          "metadata": {},
          "execution_count": 1
        }
      ],
      "source": [
        "range(10)"
      ]
    },
    {
      "cell_type": "markdown",
      "source": [
        "¿Cómo puedo ver a los elementos de generador de índices?"
      ],
      "metadata": {
        "id": "avyfLdeIgTw5"
      }
    },
    {
      "cell_type": "code",
      "source": [
        "for i in range(10):\n",
        "    print(i)"
      ],
      "metadata": {
        "colab": {
          "base_uri": "https://localhost:8080/"
        },
        "id": "Y8O2kDLPgQq3",
        "outputId": "407bc9fd-e05c-429f-e722-2ed1f3abd412"
      },
      "execution_count": 2,
      "outputs": [
        {
          "output_type": "stream",
          "name": "stdout",
          "text": [
            "0\n",
            "1\n",
            "2\n",
            "3\n",
            "4\n",
            "5\n",
            "6\n",
            "7\n",
            "8\n",
            "9\n"
          ]
        }
      ]
    },
    {
      "cell_type": "code",
      "source": [
        "# Vamos a construir dos conjuntos\n",
        "\n",
        "P = {i for i in range(21) if i%2==0}\n",
        "print(f\"Pares : {P}\")\n",
        "\n",
        "I = {i for i in range(21) if i%2!=0}\n",
        "print(f\"Impares : {I}\")\n",
        "\n",
        "#Vamos a crear otro conjunto\n",
        "\n",
        "C = {17, 7, 27, 19, 77, 56, 8, 12, 10, 13, 20, 16}\n",
        "C, type(C)\n"
      ],
      "metadata": {
        "colab": {
          "base_uri": "https://localhost:8080/"
        },
        "id": "M8WtDuAtgdFl",
        "outputId": "e61ceb51-15ed-4cc3-b71d-64f4e40ee0ed"
      },
      "execution_count": 10,
      "outputs": [
        {
          "output_type": "stream",
          "name": "stdout",
          "text": [
            "Pares : {0, 2, 4, 6, 8, 10, 12, 14, 16, 18, 20}\n",
            "Impares : {1, 3, 5, 7, 9, 11, 13, 15, 17, 19}\n"
          ]
        },
        {
          "output_type": "execute_result",
          "data": {
            "text/plain": [
              "({7, 8, 10, 12, 13, 16, 17, 19, 20, 27, 56, 77}, set)"
            ]
          },
          "metadata": {},
          "execution_count": 10
        }
      ]
    },
    {
      "cell_type": "markdown",
      "source": [
        "#**Los objetos en Python tienen atributos**#"
      ],
      "metadata": {
        "id": "Fov9WmU4kAhx"
      }
    },
    {
      "cell_type": "code",
      "source": [
        "P.intersection(I)"
      ],
      "metadata": {
        "colab": {
          "base_uri": "https://localhost:8080/"
        },
        "id": "m6PfYfzYj73j",
        "outputId": "f23d8cc1-7370-4d48-c9bc-200218c9dc25"
      },
      "execution_count": 11,
      "outputs": [
        {
          "output_type": "execute_result",
          "data": {
            "text/plain": [
              "set()"
            ]
          },
          "metadata": {},
          "execution_count": 11
        }
      ]
    },
    {
      "cell_type": "code",
      "source": [
        "P.union(I)"
      ],
      "metadata": {
        "colab": {
          "base_uri": "https://localhost:8080/"
        },
        "id": "LOCMt0h8kplp",
        "outputId": "30d993c8-642f-426a-905c-f1dbcb3e67a5"
      },
      "execution_count": 12,
      "outputs": [
        {
          "output_type": "execute_result",
          "data": {
            "text/plain": [
              "{0, 1, 2, 3, 4, 5, 6, 7, 8, 9, 10, 11, 12, 13, 14, 15, 16, 17, 18, 19, 20}"
            ]
          },
          "metadata": {},
          "execution_count": 12
        }
      ]
    },
    {
      "cell_type": "code",
      "source": [
        "I.difference(C) # Quita los elementos de C a los impares"
      ],
      "metadata": {
        "colab": {
          "base_uri": "https://localhost:8080/"
        },
        "id": "CAkQdfOQkr_A",
        "outputId": "e18136f6-58f7-4566-d3a2-c2e4785a2778"
      },
      "execution_count": 13,
      "outputs": [
        {
          "output_type": "execute_result",
          "data": {
            "text/plain": [
              "{1, 3, 5, 9, 11, 15}"
            ]
          },
          "metadata": {},
          "execution_count": 13
        }
      ]
    },
    {
      "cell_type": "code",
      "source": [
        "P.difference(C) # Quita los elementos de C a los pares"
      ],
      "metadata": {
        "colab": {
          "base_uri": "https://localhost:8080/"
        },
        "id": "byY5tMtikykP",
        "outputId": "b41550bd-2560-410e-d1f2-1fbadfb5eb05"
      },
      "execution_count": 15,
      "outputs": [
        {
          "output_type": "execute_result",
          "data": {
            "text/plain": [
              "{0, 2, 4, 6, 14, 18}"
            ]
          },
          "metadata": {},
          "execution_count": 15
        }
      ]
    },
    {
      "cell_type": "markdown",
      "source": [
        "##Listas##"
      ],
      "metadata": {
        "id": "yV_Klvazl1lo"
      }
    },
    {
      "cell_type": "code",
      "source": [
        "Lista_pares = list(P)\n",
        "Lista_pares"
      ],
      "metadata": {
        "colab": {
          "base_uri": "https://localhost:8080/"
        },
        "id": "Y7TTlTPHlKFf",
        "outputId": "258563e6-7870-4512-9702-31df7cefd6da"
      },
      "execution_count": 16,
      "outputs": [
        {
          "output_type": "execute_result",
          "data": {
            "text/plain": [
              "[0, 2, 4, 6, 8, 10, 12, 14, 16, 18, 20]"
            ]
          },
          "metadata": {},
          "execution_count": 16
        }
      ]
    },
    {
      "cell_type": "code",
      "source": [],
      "metadata": {
        "id": "aihYYc3SmSIb"
      },
      "execution_count": null,
      "outputs": []
    }
  ]
}